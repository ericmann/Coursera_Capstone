{
 "cells": [
  {
   "cell_type": "markdown",
   "metadata": {},
   "source": [
    "# Battle of the Neighborhoods"
   ]
  },
  {
   "cell_type": "markdown",
   "metadata": {},
   "source": [
    "## Introduction/Business Problem\n",
    "\n",
    "A new brewery, Hops Inc, wants to open business in the Portland metropolitan area. Their goal is to open multiple locations throughout the area, primarily targeting neighborhoods that already feature breweries. Their management theory is that dense population centers with a high proportion of breweries will yield greater opportunities for partnerships between brewers - pub crawls, growler exchanges, etc.\n",
    "\n",
    "The goal of the project is to identify at least three neighborhoods in the metropolitan area surrounding Portland OR that will suite Hops Inc's endeavor to open _at least three_ locations situated with relative proximity to clusters of existing breweries."
   ]
  },
  {
   "cell_type": "markdown",
   "metadata": {},
   "source": [
    "## Data\n",
    "\n",
    "The first dataset required will be the names and geographical locations of the neighborhoods in the Portland metropolitan area. This data will be sourced and scraped from **PDXListed.com**: https://www.pdxlisted.com/neighborhoods/ This data source will permit us to identify:\n",
    "\n",
    "- Region names\n",
    "- Neighborhood/City names\n",
    "- Approximate neighborhood population\n",
    "\n",
    "We will further use the a **Python Geocoder** to identify the latitude and longitude of each neighborhood.\n",
    "\n",
    "We will leverage the **Foursquare API** to identify all breweries in the region by iterating through each neighborhood in turn. Marrying our brewery location data with neighborhood geolocations will allow us to identify the neighborhoods with the greatest number of breweries _as well as_ the density of breweries with respect to population. "
   ]
  },
  {
   "cell_type": "markdown",
   "metadata": {},
   "source": [
    "## Methodology"
   ]
  },
  {
   "cell_type": "markdown",
   "metadata": {},
   "source": [
    "## Results"
   ]
  },
  {
   "cell_type": "markdown",
   "metadata": {},
   "source": [
    "## Discussion"
   ]
  },
  {
   "cell_type": "markdown",
   "metadata": {},
   "source": [
    "## Conclusion"
   ]
  },
  {
   "cell_type": "code",
   "execution_count": null,
   "metadata": {},
   "outputs": [],
   "source": []
  }
 ],
 "metadata": {
  "kernelspec": {
   "display_name": "Python 3",
   "language": "python",
   "name": "python3"
  },
  "language_info": {
   "codemirror_mode": {
    "name": "ipython",
    "version": 3
   },
   "file_extension": ".py",
   "mimetype": "text/x-python",
   "name": "python",
   "nbconvert_exporter": "python",
   "pygments_lexer": "ipython3",
   "version": "3.8.2"
  }
 },
 "nbformat": 4,
 "nbformat_minor": 4
}
